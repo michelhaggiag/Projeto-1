{
 "cells": [
  {
   "cell_type": "markdown",
   "metadata": {},
   "source": [
    "# Pergunta: Países com IDH mais elevados costumam ter maior índice de percepção de corrupção (quanto a corrupção é percebida em um país)? E uma educação mais igualitária em termos de gênero?\n",
    "# Ano de estudo: 2015\n"
   ]
  },
  {
   "cell_type": "code",
   "execution_count": 4,
   "metadata": {},
   "outputs": [],
   "source": [
    "%matplotlib inline\n",
    "import pandas as pd\n",
    "import matplotlib.pyplot as plt\n",
    "import numpy as np\n",
    "import seaborn as sns"
   ]
  },
  {
   "cell_type": "code",
   "execution_count": 5,
   "metadata": {
    "scrolled": true
   },
   "outputs": [
    {
     "ename": "NameError",
     "evalue": "name 'df' is not defined",
     "output_type": "error",
     "traceback": [
      "\u001b[1;31m---------------------------------------------------------------------------\u001b[0m",
      "\u001b[1;31mNameError\u001b[0m                                 Traceback (most recent call last)",
      "\u001b[1;32m<ipython-input-5-5f1439797bb2>\u001b[0m in \u001b[0;36m<module>\u001b[1;34m()\u001b[0m\n\u001b[0;32m     14\u001b[0m \u001b[1;31m# criando bolxplot para razão entre homens e mulheres nas escolas\u001b[0m\u001b[1;33m\u001b[0m\u001b[1;33m\u001b[0m\u001b[0m\n\u001b[0;32m     15\u001b[0m \u001b[1;33m\u001b[0m\u001b[0m\n\u001b[1;32m---> 16\u001b[1;33m \u001b[0mdf\u001b[0m\u001b[1;33m[\u001b[0m\u001b[1;34m'Mulheres/Homens nas escolas'\u001b[0m\u001b[1;33m]\u001b[0m\u001b[1;33m.\u001b[0m\u001b[0mplot\u001b[0m\u001b[1;33m.\u001b[0m\u001b[0mbox\u001b[0m\u001b[1;33m(\u001b[0m\u001b[1;33m)\u001b[0m\u001b[1;33m\u001b[0m\u001b[0m\n\u001b[0m\u001b[0;32m     17\u001b[0m \u001b[1;33m\u001b[0m\u001b[0m\n",
      "\u001b[1;31mNameError\u001b[0m: name 'df' is not defined"
     ]
    }
   ],
   "source": [
    "#selecionando o dado razão entre mulheres e homens nas escolas nos países\n",
    "\n",
    "dados1 = pd.read_excel('razao.xlsx')\n",
    "dados1.loc[:,['geo',2015]]\n",
    "#renomeando as colunas\n",
    "\n",
    "dados1=dados1.loc[ :,[\"geo\", 2015]]\n",
    "dados1.rename(columns={2015:\"Mulheres/Homens nas escolas\",\"geo\":\"País\"},inplace=True)\n",
    "dados1.set_index(\"País\",inplace=True)\n",
    "\n",
    "d10 = dados1.head(20)\n",
    "d10\n",
    "\n",
    "# criando bolxplot para razão entre homens e mulheres nas escolas\n",
    "\n",
    "df['Mulheres/Homens nas escolas'].plot.box()\n",
    "\n"
   ]
  },
  {
   "cell_type": "markdown",
   "metadata": {},
   "source": [
    "O boxplot acima mostra que a mediana da razão entre homens e mulheres nas escolas é 1, o que mostra que na maioria dos países, a quantidade de homens e mulheres nas escolas é quase igual. Mesmo assim, existem países com uma razão diferente de 1, tanto para mais quanto para menos, o que fica explícito nos outliers."
   ]
  },
  {
   "cell_type": "code",
   "execution_count": 6,
   "metadata": {},
   "outputs": [
    {
     "ename": "NameError",
     "evalue": "name 'df' is not defined",
     "output_type": "error",
     "traceback": [
      "\u001b[1;31m---------------------------------------------------------------------------\u001b[0m",
      "\u001b[1;31mNameError\u001b[0m                                 Traceback (most recent call last)",
      "\u001b[1;32m<ipython-input-6-ec0373629c5f>\u001b[0m in \u001b[0;36m<module>\u001b[1;34m()\u001b[0m\n\u001b[0;32m      1\u001b[0m \u001b[1;31m#Criando boxplot para o Índice de percepção de corrupção\u001b[0m\u001b[1;33m\u001b[0m\u001b[1;33m\u001b[0m\u001b[0m\n\u001b[0;32m      2\u001b[0m \u001b[1;33m\u001b[0m\u001b[0m\n\u001b[1;32m----> 3\u001b[1;33m \u001b[0mdf\u001b[0m\u001b[1;33m[\u001b[0m\u001b[1;34m\"Índice de Percepção de Corrupção\"\u001b[0m\u001b[1;33m]\u001b[0m\u001b[1;33m.\u001b[0m\u001b[0mplot\u001b[0m\u001b[1;33m.\u001b[0m\u001b[0mbox\u001b[0m\u001b[1;33m(\u001b[0m\u001b[1;33m)\u001b[0m\u001b[1;33m\u001b[0m\u001b[0m\n\u001b[0m\u001b[0;32m      4\u001b[0m \u001b[1;33m\u001b[0m\u001b[0m\n\u001b[0;32m      5\u001b[0m \u001b[1;31m#selecionando o o dado índice de percepção de corrupção\u001b[0m\u001b[1;33m\u001b[0m\u001b[1;33m\u001b[0m\u001b[0m\n",
      "\u001b[1;31mNameError\u001b[0m: name 'df' is not defined"
     ]
    }
   ],
   "source": [
    "#Criando boxplot para o Índice de percepção de corrupção\n",
    "\n",
    "df[\"Índice de Percepção de Corrupção\"].plot.box()\n",
    "\n",
    "#selecionando o o dado índice de percepção de corrupção\n",
    "\n",
    "\n",
    "dados2 = pd.read_excel('corrupcao.xlsx')\n",
    "dados2.head()\n",
    "dados2.loc[:,['geo',2015]]\n",
    "\n",
    "#renomeando as colunas\n",
    "\n",
    "dados2=dados2.loc[ :,[\"geo\", 2015]]\n",
    "dados2.rename(columns={2015:\"Índice de Percepção de Corrupção\",\"geo\":\"País\"},inplace=True)\n",
    "dados2.set_index(\"País\",inplace=True)\n",
    "\n",
    "d20 = dados2.head(20)\n",
    "d20"
   ]
  },
  {
   "cell_type": "markdown",
   "metadata": {},
   "source": [
    "O boxplot acima mostra que, infelizmente, a maioria dos países analisados têm um índice de percepção de corrupção beirando a 40, ou seja, a população destes não percebem a corrupção no mesmo."
   ]
  },
  {
   "cell_type": "code",
   "execution_count": 7,
   "metadata": {},
   "outputs": [
    {
     "data": {
      "text/html": [
       "<div>\n",
       "<style scoped>\n",
       "    .dataframe tbody tr th:only-of-type {\n",
       "        vertical-align: middle;\n",
       "    }\n",
       "\n",
       "    .dataframe tbody tr th {\n",
       "        vertical-align: top;\n",
       "    }\n",
       "\n",
       "    .dataframe thead th {\n",
       "        text-align: right;\n",
       "    }\n",
       "</style>\n",
       "<table border=\"1\" class=\"dataframe\">\n",
       "  <thead>\n",
       "    <tr style=\"text-align: right;\">\n",
       "      <th></th>\n",
       "      <th>IDH</th>\n",
       "    </tr>\n",
       "    <tr>\n",
       "      <th>País</th>\n",
       "      <th></th>\n",
       "    </tr>\n",
       "  </thead>\n",
       "  <tbody>\n",
       "    <tr>\n",
       "      <th>Afghanistan</th>\n",
       "      <td>0.479</td>\n",
       "    </tr>\n",
       "    <tr>\n",
       "      <th>Albania</th>\n",
       "      <td>0.764</td>\n",
       "    </tr>\n",
       "    <tr>\n",
       "      <th>Algeria</th>\n",
       "      <td>0.745</td>\n",
       "    </tr>\n",
       "    <tr>\n",
       "      <th>Andorra</th>\n",
       "      <td>0.858</td>\n",
       "    </tr>\n",
       "    <tr>\n",
       "      <th>Angola</th>\n",
       "      <td>0.533</td>\n",
       "    </tr>\n",
       "    <tr>\n",
       "      <th>Antigua and Barbuda</th>\n",
       "      <td>0.786</td>\n",
       "    </tr>\n",
       "    <tr>\n",
       "      <th>Argentina</th>\n",
       "      <td>0.827</td>\n",
       "    </tr>\n",
       "    <tr>\n",
       "      <th>Armenia</th>\n",
       "      <td>0.743</td>\n",
       "    </tr>\n",
       "    <tr>\n",
       "      <th>Australia</th>\n",
       "      <td>0.939</td>\n",
       "    </tr>\n",
       "    <tr>\n",
       "      <th>Austria</th>\n",
       "      <td>0.893</td>\n",
       "    </tr>\n",
       "    <tr>\n",
       "      <th>Azerbaijan</th>\n",
       "      <td>0.759</td>\n",
       "    </tr>\n",
       "    <tr>\n",
       "      <th>Bahamas</th>\n",
       "      <td>0.792</td>\n",
       "    </tr>\n",
       "    <tr>\n",
       "      <th>Bahrain</th>\n",
       "      <td>0.824</td>\n",
       "    </tr>\n",
       "    <tr>\n",
       "      <th>Bangladesh</th>\n",
       "      <td>0.579</td>\n",
       "    </tr>\n",
       "    <tr>\n",
       "      <th>Barbados</th>\n",
       "      <td>0.795</td>\n",
       "    </tr>\n",
       "    <tr>\n",
       "      <th>Belarus</th>\n",
       "      <td>0.796</td>\n",
       "    </tr>\n",
       "    <tr>\n",
       "      <th>Belgium</th>\n",
       "      <td>0.896</td>\n",
       "    </tr>\n",
       "    <tr>\n",
       "      <th>Belize</th>\n",
       "      <td>0.706</td>\n",
       "    </tr>\n",
       "    <tr>\n",
       "      <th>Benin</th>\n",
       "      <td>0.485</td>\n",
       "    </tr>\n",
       "    <tr>\n",
       "      <th>Bhutan</th>\n",
       "      <td>0.607</td>\n",
       "    </tr>\n",
       "  </tbody>\n",
       "</table>\n",
       "</div>"
      ],
      "text/plain": [
       "                       IDH\n",
       "País                      \n",
       "Afghanistan          0.479\n",
       "Albania              0.764\n",
       "Algeria              0.745\n",
       "Andorra              0.858\n",
       "Angola               0.533\n",
       "Antigua and Barbuda  0.786\n",
       "Argentina            0.827\n",
       "Armenia              0.743\n",
       "Australia            0.939\n",
       "Austria              0.893\n",
       "Azerbaijan           0.759\n",
       "Bahamas              0.792\n",
       "Bahrain              0.824\n",
       "Bangladesh           0.579\n",
       "Barbados             0.795\n",
       "Belarus              0.796\n",
       "Belgium              0.896\n",
       "Belize               0.706\n",
       "Benin                0.485\n",
       "Bhutan               0.607"
      ]
     },
     "execution_count": 7,
     "metadata": {},
     "output_type": "execute_result"
    }
   ],
   "source": [
    "#selecionando o IDH por pais\n",
    "\n",
    "dados3= pd.read_excel('IDH.xlsx')\n",
    "dados3.loc[:,['geo',2015]]\n",
    "\n",
    "#renomeando as colunas\n",
    "\n",
    "dados3=dados3.loc[ :,[\"geo\", 2015]]\n",
    "dados3.rename(columns={2015:\"IDH\",\"geo\":\"País\"},inplace=True)\n",
    "dados3.set_index(\"País\",inplace=True)\n",
    "\n",
    "d30 = dados3.head(20)\n",
    "d30\n",
    "\n",
    "\n"
   ]
  },
  {
   "cell_type": "code",
   "execution_count": 8,
   "metadata": {},
   "outputs": [
    {
     "ename": "NameError",
     "evalue": "name 'dados2' is not defined",
     "output_type": "error",
     "traceback": [
      "\u001b[1;31m---------------------------------------------------------------------------\u001b[0m",
      "\u001b[1;31mNameError\u001b[0m                                 Traceback (most recent call last)",
      "\u001b[1;32m<ipython-input-8-5fe4791dcb8a>\u001b[0m in \u001b[0;36m<module>\u001b[1;34m()\u001b[0m\n\u001b[0;32m      1\u001b[0m \u001b[1;31m# juntando as colunas em um único dataframe\u001b[0m\u001b[1;33m\u001b[0m\u001b[1;33m\u001b[0m\u001b[0m\n\u001b[0;32m      2\u001b[0m \u001b[1;33m\u001b[0m\u001b[0m\n\u001b[1;32m----> 3\u001b[1;33m \u001b[0mjunto\u001b[0m\u001b[1;33m=\u001b[0m\u001b[1;33m[\u001b[0m\u001b[0mdados3\u001b[0m\u001b[1;33m,\u001b[0m\u001b[0mdados1\u001b[0m\u001b[1;33m,\u001b[0m\u001b[0mdados2\u001b[0m\u001b[1;33m]\u001b[0m\u001b[1;33m\u001b[0m\u001b[0m\n\u001b[0m\u001b[0;32m      4\u001b[0m \u001b[0mfirst\u001b[0m\u001b[1;33m=\u001b[0m\u001b[0mjunto\u001b[0m\u001b[1;33m.\u001b[0m\u001b[0mpop\u001b[0m\u001b[1;33m(\u001b[0m\u001b[1;36m0\u001b[0m\u001b[1;33m)\u001b[0m\u001b[1;33m\u001b[0m\u001b[0m\n\u001b[0;32m      5\u001b[0m \u001b[1;33m\u001b[0m\u001b[0m\n",
      "\u001b[1;31mNameError\u001b[0m: name 'dados2' is not defined"
     ]
    }
   ],
   "source": [
    "# juntando as colunas em um único dataframe\n",
    "\n",
    "junto=[dados3,dados1,dados2]\n",
    "first=junto.pop(0)\n",
    "\n",
    "df=first.join(junto,how=\"inner\")\n",
    "\n",
    "df.head(20)"
   ]
  },
  {
   "cell_type": "markdown",
   "metadata": {},
   "source": [
    "\n"
   ]
  },
  {
   "cell_type": "code",
   "execution_count": null,
   "metadata": {
    "scrolled": true
   },
   "outputs": [],
   "source": [
    "#criando gráfico IDH X razão entre mulheres e homens nas escolas\n",
    "\n",
    "sns.regplot(df[\"IDH\"],df[\"Mulheres/Homens nas escolas\"], color=('green'))\n",
    "plt.grid()\n",
    "plt.title('Mulheres/Homens nas Escolas X IDH')\n",
    "plt.grid(True)\n",
    "plt.show()\n",
    "\n",
    "# pegando a correlação entre IDH e a razão entre mulheres e homens nas escolas\n",
    "corr1 = dados1['Mulheres/Homens nas escolas'].corr(dados3['IDH'])\n",
    "print('Correlação entre as varíaveis:'+str(corr1))"
   ]
  },
  {
   "cell_type": "markdown",
   "metadata": {},
   "source": [
    " A partir do grafico acima, conclui-se que, na maioria dos casos, os países com IDH mais elevados tendem a ter uma razção mais próxima de 1. Isso mostra que o número de homens e mulheres nas escolas é muito próximo. Nota-se tambem que o caso em que o IDH é o mais baixo, a razão é menor que 1. Com isso, conclui-se que, neste país, o número de mulheres que frequenta escolas é maior que o de homens. Entretanto, percebe-se que não necessariamente países com IDH maiores têm uma razão mais próxima de 1. A correlação entra as variáveis é muito baixa, o que confirma o que foi dito. Outro fator que pode explicar a razão diferente de 1 é que em alguns países, existem mais homens ou mulheres crianças. Sendo assim, se o país tem mais mulheres crianças em geral e todas elas e os homens forem às escolas, a razão ficará acima de 1. Isso não significa que a educação é desigual, mas que existem mais mulheres do que homens crianças."
   ]
  },
  {
   "cell_type": "code",
   "execution_count": null,
   "metadata": {},
   "outputs": [],
   "source": [
    "#criando gráfico IDH  x índice de precepção de corrupção\n",
    "\n",
    "sns.regplot(df[\"IDH\"],df[\"Índice de Percepção de Corrupção\"], color=('green'))\n",
    "plt.grid()\n",
    "plt.title('Índice de Percepção de Corrupção X IDH')\n",
    "plt.axis([0,1,0,100])\n",
    "plt.grid(True)\n",
    "plt.show()\n",
    "\n",
    "\n",
    "#correlação entre IDH e o índice de percepção de corrupção\n",
    "corr2 = dados2['Índice de Percepção de Corrupção'].corr(dados3['IDH'])\n",
    "print('Correlação entre as varíaveis:'+str(corr2))"
   ]
  },
  {
   "cell_type": "markdown",
   "metadata": {},
   "source": [
    "Segundo o site Gapminder.com, países que têm Índice de corrupção mais elevados são os países com menor índice de corrupção. A partir disso, presume-se que países com IDH mais elevados vão ter índice de percepção de corrupção elevados. Vê-se no gráfico que, em geral, essa hipótese se confirma, ou seja, países com maiores IDH são os países com maior índice de percepção de corrupção. Neste gráfico, a correlação é bem mais alta do que no anterior, o que mostra que as variáveis são mais influentes uma na outra. "
   ]
  },
  {
   "cell_type": "code",
   "execution_count": null,
   "metadata": {},
   "outputs": [],
   "source": [
    "#criando gráfico índice de perçepção de corrupção X razão entre mulheres e homens nas escolas\n",
    "\n",
    "plt.plot(d20, d10,'o')\n",
    "plt.grid()\n",
    "plt.title('Índice de Percepção de Corrupção X Mulheres/Homens nas Escolas')\n",
    "plt.grid(True)\n",
    "plt.show()\n",
    "\n",
    "#correlação entre razão entre homens e mulheres nas escolas e o índice de percepção de corrupção\n",
    "corr3 = dados2['Índice de Percepção de Corrupção'].corr(dados1['Mulheres/Homens nas escolas'])\n",
    "print('Correlação entre varíaveis:'+str(corr3))"
   ]
  },
  {
   "cell_type": "markdown",
   "metadata": {},
   "source": [
    "O gráfico acima relaciona as duas variáveis escolhidas: Índice de Percepção de corrupçã o e razão entre homens e mulheres nas escolas. O gráfico mostra que em países com razão beirando à 1, o índice de percepção de corrupção varia muito. Ou seja, as duas variáveis não parecem ter nenhuma relação direta entre si. Esta ideia é confirmada pela baíxissima correlação entre as variáveis."
   ]
  },
  {
   "cell_type": "code",
   "execution_count": null,
   "metadata": {},
   "outputs": [],
   "source": []
  }
 ],
 "metadata": {
  "kernelspec": {
   "display_name": "Python 3",
   "language": "python",
   "name": "python3"
  },
  "language_info": {
   "codemirror_mode": {
    "name": "ipython",
    "version": 3
   },
   "file_extension": ".py",
   "mimetype": "text/x-python",
   "name": "python",
   "nbconvert_exporter": "python",
   "pygments_lexer": "ipython3",
   "version": "3.6.4"
  }
 },
 "nbformat": 4,
 "nbformat_minor": 2
}
